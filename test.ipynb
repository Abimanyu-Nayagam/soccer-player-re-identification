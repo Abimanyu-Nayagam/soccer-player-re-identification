{
 "cells": [
  {
   "cell_type": "code",
   "execution_count": null,
   "id": "fd1471b0",
   "metadata": {},
   "outputs": [],
   "source": [
    "nvidia-smi"
   ]
  },
  {
   "cell_type": "code",
   "execution_count": null,
   "id": "c9907b0b",
   "metadata": {},
   "outputs": [],
   "source": [
    "from ultralytics import YOLO\n",
    "import cv2\n",
    "# Load a pre-trained YOLOv8 model\n",
    "model = YOLO('./models/best.pt')\n",
    "model.to('cuda')  # Use GPU if available\n",
    "video_path = './Assignment Materials/Assignment Materials/15sec_input_720p.mp4'"
   ]
  },
  {
   "cell_type": "code",
   "execution_count": null,
   "id": "5c401eea",
   "metadata": {},
   "outputs": [],
   "source": [
    "cap = cv2.VideoCapture(video_path)\n",
    "if not cap.isOpened():\n",
    "    print(\"Error: Could not open video.\")\n",
    "    exit()\n",
    "\n",
    "while True:\n",
    "    ret, frame = cap.read()\n",
    "    if not ret:\n",
    "        print(\"End of video or error reading frame.\")\n",
    "        break\n",
    "\n",
    "    results = model(frame, stream=True)\n",
    "    for result in results:\n",
    "        result = result\n",
    "        for box in result.boxes:\n",
    "            x1, y1, x2, y2 = box.xyxy[0]\n",
    "            conf = box.conf[0]\n",
    "            cls = box.cls[0]\n",
    "            label = f\"{model.names[int(cls)]} {conf:.2f}\"\n",
    "            cv2.rectangle(frame, (int(x1), int(y1)), (int(x2), int(y2)), (255, 0, 0), 2)\n",
    "            cv2.putText(frame, label, (int(x1), int(y1) - 10), cv2.FONT_HERSHEY_SIMPLEX, 0.5, (255, 0, 0), 2)\n",
    "        cv2.imshow('YOLOv8 Detection', frame)\n",
    "\n",
    "    if cv2.waitKey(1) & 0xFF == ord('q'):\n",
    "        cv2.destroyAllWindows()\n",
    "        cap.release()\n",
    "        print(\"Exiting video stream.\")\n",
    "        break"
   ]
  }
 ],
 "metadata": {
  "kernelspec": {
   "display_name": "tf",
   "language": "python",
   "name": "python3"
  },
  "language_info": {
   "codemirror_mode": {
    "name": "ipython",
    "version": 3
   },
   "file_extension": ".py",
   "mimetype": "text/x-python",
   "name": "python",
   "nbconvert_exporter": "python",
   "pygments_lexer": "ipython3",
   "version": "3.9.18"
  }
 },
 "nbformat": 4,
 "nbformat_minor": 5
}
